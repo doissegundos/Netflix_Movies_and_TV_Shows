{
  "nbformat": 4,
  "nbformat_minor": 0,
  "metadata": {
    "colab": {
      "name": "netflix.ipynb",
      "provenance": [],
      "collapsed_sections": [
        "qVXYJxt-09Q2",
        "dW1twbcg-Sb3",
        "Pwf7rYEnANAH"
      ],
      "authorship_tag": "ABX9TyPd2REkaV3SoFv9tbV3E53c",
      "include_colab_link": true
    },
    "kernelspec": {
      "name": "python3",
      "display_name": "Python 3"
    }
  },
  "cells": [
    {
      "cell_type": "markdown",
      "metadata": {
        "id": "view-in-github",
        "colab_type": "text"
      },
      "source": [
        "<a href=\"https://colab.research.google.com/github/doissegundos/Netflix_Movies_and_TV_Shows/blob/main/netflix.ipynb\" target=\"_parent\"><img src=\"https://colab.research.google.com/assets/colab-badge.svg\" alt=\"Open In Colab\"/></a>"
      ]
    },
    {
      "cell_type": "markdown",
      "metadata": {
        "id": "33ppMiGqzg4a"
      },
      "source": [
        "## Exploração"
      ]
    },
    {
      "cell_type": "markdown",
      "metadata": {
        "id": "73unm5a88q63"
      },
      "source": [
        "#### TV Shows and Movies listed on Netflix\n",
        "Este trabalho faz uma análise do dataset \"TV Shows and Movies listed on Netflix\", afim de entender e visualizar os dados presentes nele. Algumas das questões analisadas foram: \n",
        "- Paises com mais de 100 filmes disponiveis\n",
        "- Diretores que produziram mais de 7 filmes\n",
        "- Comparação entre o número de Movies e TV Shows produzidos\n",
        "- Estilos de conteúdos produzidos\n",
        "- Relação da produção de filmes a partir da década de 90. \n",
        "}\n",
        "\n",
        "Acesso em: https://www.kaggle.com/shivamb/netflix-shows"
      ]
    },
    {
      "cell_type": "code",
      "metadata": {
        "id": "wi2uPKa8zZx7"
      },
      "source": [
        "from google.colab import drive\n",
        "import numpy as np\n",
        "import cv2\n",
        "import os\n",
        "import matplotlib.pyplot as plt\n",
        "import csv\n",
        "import pandas as pd\n",
        "import matplotlib.pyplot as plt\n",
        "import seaborn as sns\n",
        "import plotly.graph_objects as go\n",
        "import plotly.express as px"
      ],
      "execution_count": 76,
      "outputs": []
    },
    {
      "cell_type": "code",
      "metadata": {
        "id": "NUDXRIiGzlLd",
        "outputId": "a47c9d7c-a382-4376-f936-7cf0f6544543",
        "colab": {
          "base_uri": "https://localhost:8080/"
        }
      },
      "source": [
        "#Para os arquivos do Drive\n",
        "drive.mount('/content/drive')\n",
        "df = pd.read_csv(r'drive/My Drive/datasets/netflix_titles.csv')"
      ],
      "execution_count": 2,
      "outputs": [
        {
          "output_type": "stream",
          "text": [
            "Mounted at /content/drive\n"
          ],
          "name": "stdout"
        }
      ]
    },
    {
      "cell_type": "code",
      "metadata": {
        "id": "n4WzncYIA7Gu",
        "outputId": "d187e113-f4ba-4b16-f594-75102d685073",
        "colab": {
          "base_uri": "https://localhost:8080/",
          "height": 1000
        }
      },
      "source": [
        "print('Quantidade de instâncias: {}\\nQuantidade de atributos: {}\\n'.format(len(df), len(df.columns)))\n",
        "df[0:20]"
      ],
      "execution_count": 3,
      "outputs": [
        {
          "output_type": "stream",
          "text": [
            "Quantidade de instâncias: 6234\n",
            "Quantidade de atributos: 12\n",
            "\n"
          ],
          "name": "stdout"
        },
        {
          "output_type": "execute_result",
          "data": {
            "text/html": [
              "<div>\n",
              "<style scoped>\n",
              "    .dataframe tbody tr th:only-of-type {\n",
              "        vertical-align: middle;\n",
              "    }\n",
              "\n",
              "    .dataframe tbody tr th {\n",
              "        vertical-align: top;\n",
              "    }\n",
              "\n",
              "    .dataframe thead th {\n",
              "        text-align: right;\n",
              "    }\n",
              "</style>\n",
              "<table border=\"1\" class=\"dataframe\">\n",
              "  <thead>\n",
              "    <tr style=\"text-align: right;\">\n",
              "      <th></th>\n",
              "      <th>show_id</th>\n",
              "      <th>type</th>\n",
              "      <th>title</th>\n",
              "      <th>director</th>\n",
              "      <th>cast</th>\n",
              "      <th>country</th>\n",
              "      <th>date_added</th>\n",
              "      <th>release_year</th>\n",
              "      <th>rating</th>\n",
              "      <th>duration</th>\n",
              "      <th>listed_in</th>\n",
              "      <th>description</th>\n",
              "    </tr>\n",
              "  </thead>\n",
              "  <tbody>\n",
              "    <tr>\n",
              "      <th>0</th>\n",
              "      <td>81145628</td>\n",
              "      <td>Movie</td>\n",
              "      <td>Norm of the North: King Sized Adventure</td>\n",
              "      <td>Richard Finn, Tim Maltby</td>\n",
              "      <td>Alan Marriott, Andrew Toth, Brian Dobson, Cole...</td>\n",
              "      <td>United States, India, South Korea, China</td>\n",
              "      <td>September 9, 2019</td>\n",
              "      <td>2019</td>\n",
              "      <td>TV-PG</td>\n",
              "      <td>90 min</td>\n",
              "      <td>Children &amp; Family Movies, Comedies</td>\n",
              "      <td>Before planning an awesome wedding for his gra...</td>\n",
              "    </tr>\n",
              "    <tr>\n",
              "      <th>1</th>\n",
              "      <td>80117401</td>\n",
              "      <td>Movie</td>\n",
              "      <td>Jandino: Whatever it Takes</td>\n",
              "      <td>NaN</td>\n",
              "      <td>Jandino Asporaat</td>\n",
              "      <td>United Kingdom</td>\n",
              "      <td>September 9, 2016</td>\n",
              "      <td>2016</td>\n",
              "      <td>TV-MA</td>\n",
              "      <td>94 min</td>\n",
              "      <td>Stand-Up Comedy</td>\n",
              "      <td>Jandino Asporaat riffs on the challenges of ra...</td>\n",
              "    </tr>\n",
              "    <tr>\n",
              "      <th>2</th>\n",
              "      <td>70234439</td>\n",
              "      <td>TV Show</td>\n",
              "      <td>Transformers Prime</td>\n",
              "      <td>NaN</td>\n",
              "      <td>Peter Cullen, Sumalee Montano, Frank Welker, J...</td>\n",
              "      <td>United States</td>\n",
              "      <td>September 8, 2018</td>\n",
              "      <td>2013</td>\n",
              "      <td>TV-Y7-FV</td>\n",
              "      <td>1 Season</td>\n",
              "      <td>Kids' TV</td>\n",
              "      <td>With the help of three human allies, the Autob...</td>\n",
              "    </tr>\n",
              "    <tr>\n",
              "      <th>3</th>\n",
              "      <td>80058654</td>\n",
              "      <td>TV Show</td>\n",
              "      <td>Transformers: Robots in Disguise</td>\n",
              "      <td>NaN</td>\n",
              "      <td>Will Friedle, Darren Criss, Constance Zimmer, ...</td>\n",
              "      <td>United States</td>\n",
              "      <td>September 8, 2018</td>\n",
              "      <td>2016</td>\n",
              "      <td>TV-Y7</td>\n",
              "      <td>1 Season</td>\n",
              "      <td>Kids' TV</td>\n",
              "      <td>When a prison ship crash unleashes hundreds of...</td>\n",
              "    </tr>\n",
              "    <tr>\n",
              "      <th>4</th>\n",
              "      <td>80125979</td>\n",
              "      <td>Movie</td>\n",
              "      <td>#realityhigh</td>\n",
              "      <td>Fernando Lebrija</td>\n",
              "      <td>Nesta Cooper, Kate Walsh, John Michael Higgins...</td>\n",
              "      <td>United States</td>\n",
              "      <td>September 8, 2017</td>\n",
              "      <td>2017</td>\n",
              "      <td>TV-14</td>\n",
              "      <td>99 min</td>\n",
              "      <td>Comedies</td>\n",
              "      <td>When nerdy high schooler Dani finally attracts...</td>\n",
              "    </tr>\n",
              "    <tr>\n",
              "      <th>5</th>\n",
              "      <td>80163890</td>\n",
              "      <td>TV Show</td>\n",
              "      <td>Apaches</td>\n",
              "      <td>NaN</td>\n",
              "      <td>Alberto Ammann, Eloy Azorín, Verónica Echegui,...</td>\n",
              "      <td>Spain</td>\n",
              "      <td>September 8, 2017</td>\n",
              "      <td>2016</td>\n",
              "      <td>TV-MA</td>\n",
              "      <td>1 Season</td>\n",
              "      <td>Crime TV Shows, International TV Shows, Spanis...</td>\n",
              "      <td>A young journalist is forced into a life of cr...</td>\n",
              "    </tr>\n",
              "    <tr>\n",
              "      <th>6</th>\n",
              "      <td>70304989</td>\n",
              "      <td>Movie</td>\n",
              "      <td>Automata</td>\n",
              "      <td>Gabe Ibáñez</td>\n",
              "      <td>Antonio Banderas, Dylan McDermott, Melanie Gri...</td>\n",
              "      <td>Bulgaria, United States, Spain, Canada</td>\n",
              "      <td>September 8, 2017</td>\n",
              "      <td>2014</td>\n",
              "      <td>R</td>\n",
              "      <td>110 min</td>\n",
              "      <td>International Movies, Sci-Fi &amp; Fantasy, Thrillers</td>\n",
              "      <td>In a dystopian future, an insurance adjuster f...</td>\n",
              "    </tr>\n",
              "    <tr>\n",
              "      <th>7</th>\n",
              "      <td>80164077</td>\n",
              "      <td>Movie</td>\n",
              "      <td>Fabrizio Copano: Solo pienso en mi</td>\n",
              "      <td>Rodrigo Toro, Francisco Schultz</td>\n",
              "      <td>Fabrizio Copano</td>\n",
              "      <td>Chile</td>\n",
              "      <td>September 8, 2017</td>\n",
              "      <td>2017</td>\n",
              "      <td>TV-MA</td>\n",
              "      <td>60 min</td>\n",
              "      <td>Stand-Up Comedy</td>\n",
              "      <td>Fabrizio Copano takes audience participation t...</td>\n",
              "    </tr>\n",
              "    <tr>\n",
              "      <th>8</th>\n",
              "      <td>80117902</td>\n",
              "      <td>TV Show</td>\n",
              "      <td>Fire Chasers</td>\n",
              "      <td>NaN</td>\n",
              "      <td>NaN</td>\n",
              "      <td>United States</td>\n",
              "      <td>September 8, 2017</td>\n",
              "      <td>2017</td>\n",
              "      <td>TV-MA</td>\n",
              "      <td>1 Season</td>\n",
              "      <td>Docuseries, Science &amp; Nature TV</td>\n",
              "      <td>As California's 2016 fire season rages, brave ...</td>\n",
              "    </tr>\n",
              "    <tr>\n",
              "      <th>9</th>\n",
              "      <td>70304990</td>\n",
              "      <td>Movie</td>\n",
              "      <td>Good People</td>\n",
              "      <td>Henrik Ruben Genz</td>\n",
              "      <td>James Franco, Kate Hudson, Tom Wilkinson, Omar...</td>\n",
              "      <td>United States, United Kingdom, Denmark, Sweden</td>\n",
              "      <td>September 8, 2017</td>\n",
              "      <td>2014</td>\n",
              "      <td>R</td>\n",
              "      <td>90 min</td>\n",
              "      <td>Action &amp; Adventure, Thrillers</td>\n",
              "      <td>A struggling couple can't believe their luck w...</td>\n",
              "    </tr>\n",
              "    <tr>\n",
              "      <th>10</th>\n",
              "      <td>80169755</td>\n",
              "      <td>Movie</td>\n",
              "      <td>Joaquín Reyes: Una y no más</td>\n",
              "      <td>José Miguel Contreras</td>\n",
              "      <td>Joaquín Reyes</td>\n",
              "      <td>NaN</td>\n",
              "      <td>September 8, 2017</td>\n",
              "      <td>2017</td>\n",
              "      <td>TV-MA</td>\n",
              "      <td>78 min</td>\n",
              "      <td>Stand-Up Comedy</td>\n",
              "      <td>Comedian and celebrity impersonator Joaquín Re...</td>\n",
              "    </tr>\n",
              "    <tr>\n",
              "      <th>11</th>\n",
              "      <td>70299204</td>\n",
              "      <td>Movie</td>\n",
              "      <td>Kidnapping Mr. Heineken</td>\n",
              "      <td>Daniel Alfredson</td>\n",
              "      <td>Jim Sturgess, Sam Worthington, Ryan Kwanten, A...</td>\n",
              "      <td>Netherlands, Belgium, United Kingdom, United S...</td>\n",
              "      <td>September 8, 2017</td>\n",
              "      <td>2015</td>\n",
              "      <td>R</td>\n",
              "      <td>95 min</td>\n",
              "      <td>Action &amp; Adventure, Dramas, International Movies</td>\n",
              "      <td>When beer magnate Alfred \"Freddy\" Heineken is ...</td>\n",
              "    </tr>\n",
              "    <tr>\n",
              "      <th>12</th>\n",
              "      <td>80182480</td>\n",
              "      <td>Movie</td>\n",
              "      <td>Krish Trish and Baltiboy</td>\n",
              "      <td>NaN</td>\n",
              "      <td>Damandeep Singh Baggan, Smita Malhotra, Baba S...</td>\n",
              "      <td>NaN</td>\n",
              "      <td>September 8, 2017</td>\n",
              "      <td>2009</td>\n",
              "      <td>TV-Y7</td>\n",
              "      <td>58 min</td>\n",
              "      <td>Children &amp; Family Movies</td>\n",
              "      <td>A team of minstrels, including a monkey, cat a...</td>\n",
              "    </tr>\n",
              "    <tr>\n",
              "      <th>13</th>\n",
              "      <td>80182483</td>\n",
              "      <td>Movie</td>\n",
              "      <td>Krish Trish and Baltiboy: Battle of Wits</td>\n",
              "      <td>Munjal Shroff, Tilak Shetty</td>\n",
              "      <td>Damandeep Singh Baggan, Smita Malhotra, Baba S...</td>\n",
              "      <td>NaN</td>\n",
              "      <td>September 8, 2017</td>\n",
              "      <td>2013</td>\n",
              "      <td>TV-Y7</td>\n",
              "      <td>62 min</td>\n",
              "      <td>Children &amp; Family Movies</td>\n",
              "      <td>An artisan is cheated of his payment, a lion o...</td>\n",
              "    </tr>\n",
              "    <tr>\n",
              "      <th>14</th>\n",
              "      <td>80182596</td>\n",
              "      <td>Movie</td>\n",
              "      <td>Krish Trish and Baltiboy: Best Friends Forever</td>\n",
              "      <td>Munjal Shroff, Tilak Shetty</td>\n",
              "      <td>Damandeep Singh Baggan, Smita Malhotra, Deepak...</td>\n",
              "      <td>NaN</td>\n",
              "      <td>September 8, 2017</td>\n",
              "      <td>2016</td>\n",
              "      <td>TV-Y</td>\n",
              "      <td>65 min</td>\n",
              "      <td>Children &amp; Family Movies</td>\n",
              "      <td>A cat, monkey and donkey team up to narrate fo...</td>\n",
              "    </tr>\n",
              "    <tr>\n",
              "      <th>15</th>\n",
              "      <td>80182482</td>\n",
              "      <td>Movie</td>\n",
              "      <td>Krish Trish and Baltiboy: Comics of India</td>\n",
              "      <td>Tilak Shetty</td>\n",
              "      <td>Damandeep Singh Baggan, Smita Malhotra, Baba S...</td>\n",
              "      <td>NaN</td>\n",
              "      <td>September 8, 2017</td>\n",
              "      <td>2012</td>\n",
              "      <td>TV-Y7</td>\n",
              "      <td>61 min</td>\n",
              "      <td>Children &amp; Family Movies</td>\n",
              "      <td>In three comic-strip-style tales, a boy tries ...</td>\n",
              "    </tr>\n",
              "    <tr>\n",
              "      <th>16</th>\n",
              "      <td>80182597</td>\n",
              "      <td>Movie</td>\n",
              "      <td>Krish Trish and Baltiboy: Oversmartness Never ...</td>\n",
              "      <td>Tilak Shetty</td>\n",
              "      <td>Rishi Gambhir, Smita Malhotra, Deepak Chachra</td>\n",
              "      <td>NaN</td>\n",
              "      <td>September 8, 2017</td>\n",
              "      <td>2017</td>\n",
              "      <td>TV-Y7</td>\n",
              "      <td>65 min</td>\n",
              "      <td>Children &amp; Family Movies</td>\n",
              "      <td>A cat, monkey and donkey learn the consequence...</td>\n",
              "    </tr>\n",
              "    <tr>\n",
              "      <th>17</th>\n",
              "      <td>80182481</td>\n",
              "      <td>Movie</td>\n",
              "      <td>Krish Trish and Baltiboy: Part II</td>\n",
              "      <td>NaN</td>\n",
              "      <td>Damandeep Singh Baggan, Smita Malhotra, Baba S...</td>\n",
              "      <td>NaN</td>\n",
              "      <td>September 8, 2017</td>\n",
              "      <td>2010</td>\n",
              "      <td>TV-Y7</td>\n",
              "      <td>58 min</td>\n",
              "      <td>Children &amp; Family Movies</td>\n",
              "      <td>Animal minstrels narrate stories about a monke...</td>\n",
              "    </tr>\n",
              "    <tr>\n",
              "      <th>18</th>\n",
              "      <td>80182621</td>\n",
              "      <td>Movie</td>\n",
              "      <td>Krish Trish and Baltiboy: The Greatest Trick</td>\n",
              "      <td>Munjal Shroff, Tilak Shetty</td>\n",
              "      <td>Damandeep Singh Baggan, Smita Malhotra, Baba S...</td>\n",
              "      <td>NaN</td>\n",
              "      <td>September 8, 2017</td>\n",
              "      <td>2013</td>\n",
              "      <td>TV-Y7</td>\n",
              "      <td>60 min</td>\n",
              "      <td>Children &amp; Family Movies</td>\n",
              "      <td>The consequences of trickery are explored in s...</td>\n",
              "    </tr>\n",
              "    <tr>\n",
              "      <th>19</th>\n",
              "      <td>80057969</td>\n",
              "      <td>Movie</td>\n",
              "      <td>Love</td>\n",
              "      <td>Gaspar Noé</td>\n",
              "      <td>Karl Glusman, Klara Kristin, Aomi Muyock, Ugo ...</td>\n",
              "      <td>France, Belgium</td>\n",
              "      <td>September 8, 2017</td>\n",
              "      <td>2015</td>\n",
              "      <td>NR</td>\n",
              "      <td>135 min</td>\n",
              "      <td>Cult Movies, Dramas, Independent Movies</td>\n",
              "      <td>A man in an unsatisfying marriage recalls the ...</td>\n",
              "    </tr>\n",
              "  </tbody>\n",
              "</table>\n",
              "</div>"
            ],
            "text/plain": [
              "     show_id  ...                                        description\n",
              "0   81145628  ...  Before planning an awesome wedding for his gra...\n",
              "1   80117401  ...  Jandino Asporaat riffs on the challenges of ra...\n",
              "2   70234439  ...  With the help of three human allies, the Autob...\n",
              "3   80058654  ...  When a prison ship crash unleashes hundreds of...\n",
              "4   80125979  ...  When nerdy high schooler Dani finally attracts...\n",
              "5   80163890  ...  A young journalist is forced into a life of cr...\n",
              "6   70304989  ...  In a dystopian future, an insurance adjuster f...\n",
              "7   80164077  ...  Fabrizio Copano takes audience participation t...\n",
              "8   80117902  ...  As California's 2016 fire season rages, brave ...\n",
              "9   70304990  ...  A struggling couple can't believe their luck w...\n",
              "10  80169755  ...  Comedian and celebrity impersonator Joaquín Re...\n",
              "11  70299204  ...  When beer magnate Alfred \"Freddy\" Heineken is ...\n",
              "12  80182480  ...  A team of minstrels, including a monkey, cat a...\n",
              "13  80182483  ...  An artisan is cheated of his payment, a lion o...\n",
              "14  80182596  ...  A cat, monkey and donkey team up to narrate fo...\n",
              "15  80182482  ...  In three comic-strip-style tales, a boy tries ...\n",
              "16  80182597  ...  A cat, monkey and donkey learn the consequence...\n",
              "17  80182481  ...  Animal minstrels narrate stories about a monke...\n",
              "18  80182621  ...  The consequences of trickery are explored in s...\n",
              "19  80057969  ...  A man in an unsatisfying marriage recalls the ...\n",
              "\n",
              "[20 rows x 12 columns]"
            ]
          },
          "metadata": {
            "tags": []
          },
          "execution_count": 3
        }
      ]
    },
    {
      "cell_type": "markdown",
      "metadata": {
        "id": "KRjxsO1e04I3"
      },
      "source": [
        "## Visualização"
      ]
    },
    {
      "cell_type": "markdown",
      "metadata": {
        "id": "qVXYJxt-09Q2"
      },
      "source": [
        "### Exibe os paises com mais de 100 filmes disponiveis"
      ]
    },
    {
      "cell_type": "code",
      "metadata": {
        "id": "XiwmYU4F9Io5",
        "outputId": "bcdbbace-faf2-4309-e1eb-52dc323aebc7",
        "colab": {
          "base_uri": "https://localhost:8080/"
        }
      },
      "source": [
        "df[\"country\"][0:9]"
      ],
      "execution_count": 122,
      "outputs": [
        {
          "output_type": "execute_result",
          "data": {
            "text/plain": [
              "0    United States, India, South Korea, China\n",
              "1                              United Kingdom\n",
              "2                               United States\n",
              "3                               United States\n",
              "4                               United States\n",
              "5                                       Spain\n",
              "6      Bulgaria, United States, Spain, Canada\n",
              "7                                       Chile\n",
              "8                               United States\n",
              "Name: country, dtype: object"
            ]
          },
          "metadata": {
            "tags": []
          },
          "execution_count": 122
        }
      ]
    },
    {
      "cell_type": "markdown",
      "metadata": {
        "id": "fIa_82609NLL"
      },
      "source": [
        "Como é percepitivel, em algumas instancias contém varios paises, logo é interessante fazer um splite de cada instancia, separando os nomes dos paises"
      ]
    },
    {
      "cell_type": "code",
      "metadata": {
        "id": "c6B6c3JV0_BV"
      },
      "source": [
        "df[\"country\"] = df[\"country\"].astype('str') #converte as instancias para o tipo str\n",
        "data = df[\"country\"]\n",
        "# Cria um Data Frame\n",
        "df_paises = pd.DataFrame(columns={'paises'})\n",
        "\n",
        "# Dividir cada amostras a partir do separador ','\n",
        "for i in data:\n",
        "  aux = i.split(', ')\n",
        "  for j in aux:\n",
        "    df_paises = df_paises.append({'paises':j}, ignore_index=True)"
      ],
      "execution_count": 123,
      "outputs": []
    },
    {
      "cell_type": "code",
      "metadata": {
        "id": "qajTHgz95yB6"
      },
      "source": [
        "#Relaciona os paises de acordo com a quantidade de seus filmes\n",
        "data = df_paises['paises'].value_counts().to_frame().reset_index()\n",
        "#renomeia as colunas\n",
        "data.columns = [\"paises\", \"quantidade\"]"
      ],
      "execution_count": 124,
      "outputs": []
    },
    {
      "cell_type": "code",
      "metadata": {
        "id": "xOZIdGBc72xc"
      },
      "source": [
        "#Apaga os filmes que não tem paises disponiveis definidos\n",
        "data = data.query(\"paises != 'nan'\")"
      ],
      "execution_count": 125,
      "outputs": []
    },
    {
      "cell_type": "code",
      "metadata": {
        "id": "jubBDrTS3Eh6"
      },
      "source": [
        "#Seleciona os paises que contém mais de 100 filmes disponiveis\n",
        "data = data.query(\"quantidade>100\")"
      ],
      "execution_count": 126,
      "outputs": []
    },
    {
      "cell_type": "code",
      "metadata": {
        "id": "sCn4Iche1Dha",
        "outputId": "32678f6f-0eb8-4567-d1e3-4538c4ec635c",
        "colab": {
          "base_uri": "https://localhost:8080/",
          "height": 410
        }
      },
      "source": [
        "#Faz o plot do grafico\n",
        "plt.figure(figsize=(13, 6))\n",
        "sns.set_theme(style=\"whitegrid\")\n",
        "sns.barplot(x = 'paises', y =\"quantidade\" ,data=data,palette=\"flare\")\n",
        "plt.title('Quantidade de filmes disponiveis em cada País') \n",
        "plt.show()"
      ],
      "execution_count": 127,
      "outputs": [
        {
          "output_type": "display_data",
          "data": {
            "image/png": "[encoded data removed]",
            "text/plain": [
              "<Figure size 936x432 with 1 Axes>"
            ]
          },
          "metadata": {
            "tags": []
          }
        }
      ]
    },
    {
      "cell_type": "markdown",
      "metadata": {
        "id": "dW1twbcg-Sb3"
      },
      "source": [
        "### Exibe os diretores que produziram mais de 7 filmes"
      ]
    },
    {
      "cell_type": "code",
      "metadata": {
        "id": "zEUyV2Bw-Sb4",
        "outputId": "be8694a7-9826-4489-c6f7-b1f862192e57",
        "colab": {
          "base_uri": "https://localhost:8080/"
        }
      },
      "source": [
        "df[\"director\"][0:9]"
      ],
      "execution_count": 128,
      "outputs": [
        {
          "output_type": "execute_result",
          "data": {
            "text/plain": [
              "0           Richard Finn, Tim Maltby\n",
              "1                                NaN\n",
              "2                                NaN\n",
              "3                                NaN\n",
              "4                   Fernando Lebrija\n",
              "5                                NaN\n",
              "6                        Gabe Ibáñez\n",
              "7    Rodrigo Toro, Francisco Schultz\n",
              "8                                NaN\n",
              "Name: director, dtype: object"
            ]
          },
          "metadata": {
            "tags": []
          },
          "execution_count": 128
        }
      ]
    },
    {
      "cell_type": "markdown",
      "metadata": {
        "id": "lggD70hk-Sb8"
      },
      "source": [
        "Como é percepitivel, em algumas instancias contém varios diretores por filme, logo é interessante fazer um splite de cada instancia, separando os nomes de diretores por filme"
      ]
    },
    {
      "cell_type": "code",
      "metadata": {
        "id": "fANOGDKs-Sb9"
      },
      "source": [
        "df[\"director\"] = df[\"director\"].astype('str') #converte as instancias para o tipo str\n",
        "data = df[\"director\"]\n",
        "# Cria um Data Frame\n",
        "df_paises = pd.DataFrame(columns={'diretores'})\n",
        "\n",
        "# Dividir cada amostras a partir do separador ','\n",
        "for i in data:\n",
        "  aux = i.split(', ')\n",
        "  for j in aux:\n",
        "    df_paises = df_paises.append({'diretores':j}, ignore_index=True)"
      ],
      "execution_count": 133,
      "outputs": []
    },
    {
      "cell_type": "code",
      "metadata": {
        "id": "GdI4wRyR-ScB"
      },
      "source": [
        "#Relaciona os diretores de acordo com a quantidade de seus filmes\n",
        "data = df_paises['diretores'].value_counts().to_frame().reset_index()\n",
        "#renomeia as colunas\n",
        "data.columns = [\"diretores\", \"quantidade\"]"
      ],
      "execution_count": 134,
      "outputs": []
    },
    {
      "cell_type": "code",
      "metadata": {
        "id": "d9sreDTS-ScG"
      },
      "source": [
        "#Apaga os filmes que não tem os nomes de diretores definidos\n",
        "data = data.query(\"diretores != 'nan'\")"
      ],
      "execution_count": 135,
      "outputs": []
    },
    {
      "cell_type": "code",
      "metadata": {
        "id": "qxSY5LH3-ScL"
      },
      "source": [
        "#Seleciona os diretores que contém mais de 7 filmes \n",
        "data = data.query(\"quantidade>7\")"
      ],
      "execution_count": 139,
      "outputs": []
    },
    {
      "cell_type": "code",
      "metadata": {
        "id": "pVFGMAt_-ScP",
        "outputId": "0ab0213f-ba73-4961-afe1-927d583e7d0f",
        "colab": {
          "base_uri": "https://localhost:8080/",
          "height": 410
        }
      },
      "source": [
        "#Faz o plot do grafico\n",
        "plt.figure(figsize=(20, 6))\n",
        "sns.set_theme(style=\"whitegrid\")\n",
        "sns.barplot(x = 'diretores', y =\"quantidade\" ,data=data,palette=\"Set2\")\n",
        "plt.title('Quantidade de filmes por diretor') \n",
        "plt.show()"
      ],
      "execution_count": 144,
      "outputs": [
        {
          "output_type": "display_data",
          "data": {
            "image/png": "[encoded data removed]",
            "text/plain": [
              "<Figure size 1440x432 with 1 Axes>"
            ]
          },
          "metadata": {
            "tags": []
          }
        }
      ]
    },
    {
      "cell_type": "markdown",
      "metadata": {
        "id": "Pwf7rYEnANAH"
      },
      "source": [
        "### Exibe a comparação entre o numero de movies e de TV Shows produzidos"
      ]
    },
    {
      "cell_type": "markdown",
      "metadata": {
        "id": "Hp-_uuP7BG2f"
      },
      "source": [
        "O dataset contém dois tipos de conteudos produzidos, que são os movies e o TV show, logo será exibido a comparação entre os tipos de conteudos produzidos."
      ]
    },
    {
      "cell_type": "code",
      "metadata": {
        "id": "-XDl4mkXANAK",
        "outputId": "48d16772-c591-4d24-8654-f160d0e6d77c",
        "colab": {
          "base_uri": "https://localhost:8080/"
        }
      },
      "source": [
        "df[\"type\"][0:9]"
      ],
      "execution_count": 145,
      "outputs": [
        {
          "output_type": "execute_result",
          "data": {
            "text/plain": [
              "0      Movie\n",
              "1      Movie\n",
              "2    TV Show\n",
              "3    TV Show\n",
              "4      Movie\n",
              "5    TV Show\n",
              "6      Movie\n",
              "7      Movie\n",
              "8    TV Show\n",
              "Name: type, dtype: object"
            ]
          },
          "metadata": {
            "tags": []
          },
          "execution_count": 145
        }
      ]
    },
    {
      "cell_type": "code",
      "metadata": {
        "id": "3IIKH2AxATLO",
        "outputId": "7666d1ed-3025-4bb6-884b-cef8f663ef4c",
        "colab": {
          "base_uri": "https://localhost:8080/",
          "height": 465
        }
      },
      "source": [
        "plt.figure(figsize=(5, 6))\n",
        "sns.set_theme(style=\"whitegrid\")\n",
        "data = df['type'].to_frame().reset_index()\n",
        "data.columns = [\"index\", \"type\"]\n",
        "sns.countplot('type',data=data,palette=\"husl\")\n",
        "plt.title('Comparação entre Movies e TV Shows') \n",
        "plt.show()"
      ],
      "execution_count": 150,
      "outputs": [
        {
          "output_type": "stream",
          "text": [
            "/usr/local/lib/python3.6/dist-packages/seaborn/_decorators.py:43: FutureWarning: Pass the following variable as a keyword arg: x. From version 0.12, the only valid positional argument will be `data`, and passing other arguments without an explicit keyword will result in an error or misinterpretation.\n",
            "  FutureWarning\n"
          ],
          "name": "stderr"
        },
        {
          "output_type": "display_data",
          "data": {
            "image/png": "[encoded data removed]",
            "text/plain": [
              "<Figure size 360x432 with 1 Axes>"
            ]
          },
          "metadata": {
            "tags": []
          }
        }
      ]
    },
    {
      "cell_type": "code",
      "metadata": {
        "id": "gy8zTL8XBftb"
      },
      "source": [
        ""
      ],
      "execution_count": null,
      "outputs": []
    },
    {
      "cell_type": "markdown",
      "metadata": {
        "id": "uPk8Fqiw1fmh"
      },
      "source": [
        "### Exibe o Estilo de conteudo com menos de um total de obras relacionadas"
      ]
    },
    {
      "cell_type": "code",
      "metadata": {
        "id": "oPbCM5r81hcJ"
      },
      "source": [
        "data = df[\"listed_in\"]"
      ],
      "execution_count": 32,
      "outputs": []
    },
    {
      "cell_type": "code",
      "metadata": {
        "id": "M1KbkxKV1j48",
        "outputId": "183d897b-054e-496c-b2db-54efa416a009",
        "colab": {
          "base_uri": "https://localhost:8080/"
        }
      },
      "source": [
        "data[0:7]"
      ],
      "execution_count": 33,
      "outputs": [
        {
          "output_type": "execute_result",
          "data": {
            "text/plain": [
              "0                   Children & Family Movies, Comedies\n",
              "1                                      Stand-Up Comedy\n",
              "2                                             Kids' TV\n",
              "3                                             Kids' TV\n",
              "4                                             Comedies\n",
              "5    Crime TV Shows, International TV Shows, Spanis...\n",
              "6    International Movies, Sci-Fi & Fantasy, Thrillers\n",
              "Name: listed_in, dtype: object"
            ]
          },
          "metadata": {
            "tags": []
          },
          "execution_count": 33
        }
      ]
    },
    {
      "cell_type": "markdown",
      "metadata": {
        "id": "UzrlQwN11tBN"
      },
      "source": [
        "Como é percepitivel, em algumas instancias contém varios estilos de filmes, logo é interessante fazer um splite de cada instancia, separando os nomes dos estilos"
      ]
    },
    {
      "cell_type": "code",
      "metadata": {
        "id": "ybSQO20H1tBQ"
      },
      "source": [
        "df[\"listed_in\"] = df[\"listed_in\"].astype('str') #converte as instancias para o tipo str\n",
        "data = df[\"listed_in\"]\n",
        "# Cria um Data Frame\n",
        "df_paises = pd.DataFrame(columns={'tipo'})\n",
        "\n",
        "# Dividir cada amostras a partir do separador ','\n",
        "for i in data:\n",
        "  aux = i.split(', ')\n",
        "  for j in aux:\n",
        "    df_paises = df_paises.append({'tipo':j}, ignore_index=True)"
      ],
      "execution_count": 34,
      "outputs": []
    },
    {
      "cell_type": "code",
      "metadata": {
        "id": "TprsaMks1tBV"
      },
      "source": [
        "#Relaciona os tipos de acordo com a quantidade de seus filmes\n",
        "data = df_paises['tipo'].value_counts().to_frame().reset_index()\n",
        "#renomeia as colunas\n",
        "data.columns = [\"tipo\", \"quantidade\"]"
      ],
      "execution_count": 35,
      "outputs": []
    },
    {
      "cell_type": "code",
      "metadata": {
        "id": "8wo0eKmH1tBX"
      },
      "source": [
        "#Apaga os filmes que não tem os nomes de diretores definidos\n",
        "data = data.query(\"tipo != 'nan'\")"
      ],
      "execution_count": 36,
      "outputs": []
    },
    {
      "cell_type": "code",
      "metadata": {
        "id": "bSZzMXYI1tBa"
      },
      "source": [
        "#Seleciona os diretores que contém mais de 7 filmes \n",
        "data1 = data.query(\"quantidade>400\")"
      ],
      "execution_count": 37,
      "outputs": []
    },
    {
      "cell_type": "code",
      "metadata": {
        "id": "gTfEmAX11tBd",
        "outputId": "280115af-8549-4906-81a5-d214c9872897",
        "colab": {
          "base_uri": "https://localhost:8080/",
          "height": 410
        }
      },
      "source": [
        "#Faz o plot do grafico\n",
        "plt.figure(figsize=(20, 6))\n",
        "sns.set_theme(style=\"whitegrid\")\n",
        "sns.barplot(x = 'tipo', y =\"quantidade\" ,data=data1,palette=\"Set2\")\n",
        "plt.title(\"Estilo de conteudo com mais de 400 obras relacionadas\") \n",
        "plt.show()"
      ],
      "execution_count": 38,
      "outputs": [
        {
          "output_type": "display_data",
          "data": {
            "image/png": "[encoded data removed]",
            "text/plain": [
              "<Figure size 1440x432 with 1 Axes>"
            ]
          },
          "metadata": {
            "tags": []
          }
        }
      ]
    },
    {
      "cell_type": "code",
      "metadata": {
        "id": "lyGXU-Hv1ls-",
        "outputId": "f1d16d3b-f816-4848-9d58-3e7f0f75dc09",
        "colab": {
          "base_uri": "https://localhost:8080/",
          "height": 378
        }
      },
      "source": [
        "#Seleciona os diretores que contém mais de 7 filmes \n",
        "data2 = data.query(\"quantidade<100\")\n",
        "#Faz o plot do grafico\n",
        "plt.figure(figsize=(30, 6))\n",
        "sns.set_theme(style=\"whitegrid\")\n",
        "sns.barplot(x = 'tipo', y =\"quantidade\" ,data=data2,palette=\"Set2\")\n",
        "plt.title(\"Estilo de conteudo com menos de 100 obras relacionadas\") \n",
        "plt.show()"
      ],
      "execution_count": 39,
      "outputs": [
        {
          "output_type": "display_data",
          "data": {
            "image/png": "[encoded data removed]",
            "text/plain": [
              "<Figure size 2160x432 with 1 Axes>"
            ]
          },
          "metadata": {
            "tags": []
          }
        }
      ]
    },
    {
      "cell_type": "markdown",
      "metadata": {
        "id": "AnTmjwph3r3m"
      },
      "source": [
        "### Relação da produção de filme a partir da decada de 90"
      ]
    },
    {
      "cell_type": "code",
      "metadata": {
        "id": "7sSo8rp_3_UA"
      },
      "source": [
        "data = df[\"release_year\"]"
      ],
      "execution_count": 78,
      "outputs": []
    },
    {
      "cell_type": "code",
      "metadata": {
        "id": "LbMyXLWI3_UE",
        "outputId": "f5f6fdd3-6523-4910-9847-2089f1a5f347",
        "colab": {
          "base_uri": "https://localhost:8080/"
        }
      },
      "source": [
        "data[0:7]"
      ],
      "execution_count": 79,
      "outputs": [
        {
          "output_type": "execute_result",
          "data": {
            "text/plain": [
              "0    2019\n",
              "1    2016\n",
              "2    2013\n",
              "3    2016\n",
              "4    2017\n",
              "5    2016\n",
              "6    2014\n",
              "Name: release_year, dtype: int64"
            ]
          },
          "metadata": {
            "tags": []
          },
          "execution_count": 79
        }
      ]
    },
    {
      "cell_type": "code",
      "metadata": {
        "id": "SU6O40gi3_UI"
      },
      "source": [
        "#Relaciona os tipos de acordo com a quantidade de seus filmes\n",
        "data = data.value_counts().to_frame().reset_index()\n",
        "#renomeia as colunas\n",
        "data.columns = [\"ano\", \"quantidade\"]\n",
        "#data = data.query(\"ano>1990\")"
      ],
      "execution_count": 80,
      "outputs": []
    },
    {
      "cell_type": "code",
      "metadata": {
        "id": "3pu_kkuo45ut"
      },
      "source": [
        "data = data.query(\"ano>1990\")"
      ],
      "execution_count": 81,
      "outputs": []
    },
    {
      "cell_type": "code",
      "metadata": {
        "id": "Zp5INGjX4PaA",
        "outputId": "6e360a7c-553e-4adc-9e16-02dd21960040",
        "colab": {
          "base_uri": "https://localhost:8080/",
          "height": 410
        }
      },
      "source": [
        "sns.set_theme(style=\"whitegrid\")\n",
        "plt.figure(figsize=(14, 6))\n",
        "sns.lineplot(x=\"ano\", y=\"quantidade\", data = data,palette=\"flare\")\n",
        "plt.title('Relação da produção de filme a partir da decada de 90') \n",
        "plt.show()"
      ],
      "execution_count": 82,
      "outputs": [
        {
          "output_type": "display_data",
          "data": {
            "image/png": "[encoded data removed]",
            "text/plain": [
              "<Figure size 1008x432 with 1 Axes>"
            ]
          },
          "metadata": {
            "tags": []
          }
        }
      ]
    },
    {
      "cell_type": "code",
      "metadata": {
        "id": "YpC_xq298EjS"
      },
      "source": [
        ""
      ],
      "execution_count": null,
      "outputs": []
    }
  ]
}